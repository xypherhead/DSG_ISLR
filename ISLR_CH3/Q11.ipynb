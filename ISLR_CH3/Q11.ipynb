{
 "metadata": {
  "language_info": {
   "codemirror_mode": {
    "name": "ipython",
    "version": 3
   },
   "file_extension": ".py",
   "mimetype": "text/x-python",
   "name": "python",
   "nbconvert_exporter": "python",
   "pygments_lexer": "ipython3",
   "version": "3.9.2"
  },
  "orig_nbformat": 2,
  "kernelspec": {
   "name": "python3",
   "display_name": "Python 3",
   "language": "python"
  }
 },
 "nbformat": 4,
 "nbformat_minor": 2,
 "cells": [
  {
   "source": [
    "# Q11"
   ],
   "cell_type": "markdown",
   "metadata": {}
  },
  {
   "cell_type": "code",
   "execution_count": 1,
   "metadata": {},
   "outputs": [],
   "source": [
    "import numpy as np\n",
    "import matplotlib.pyplot as plt\n",
    "import pandas as pd \n",
    "import math\n",
    "import random as rn\n",
    "\n",
    "import statsmodels.api as sm\n",
    "import statsmodels.formula.api as smf\n",
    "from statsmodels.graphics.regressionplots import *\n",
    "from sklearn import datasets, linear_model\n",
    "from patsy import dmatrices"
   ]
  },
  {
   "cell_type": "code",
   "execution_count": 2,
   "metadata": {},
   "outputs": [],
   "source": [
    "rn.seed(1)\n",
    "x = np.random.normal(0,1,100)\n",
    "y = 2*x + np.random.normal(0,1,100)"
   ]
  },
  {
   "cell_type": "code",
   "execution_count": 3,
   "metadata": {},
   "outputs": [
    {
     "output_type": "stream",
     "name": "stdout",
     "text": [
      "                                 OLS Regression Results                                \n=======================================================================================\nDep. Variable:                      y   R-squared (uncentered):                   0.814\nModel:                            OLS   Adj. R-squared (uncentered):              0.813\nMethod:                 Least Squares   F-statistic:                              434.6\nDate:                Tue, 13 Apr 2021   Prob (F-statistic):                    5.43e-38\nTime:                        23:29:16   Log-Likelihood:                         -141.44\nNo. Observations:                 100   AIC:                                      284.9\nDf Residuals:                      99   BIC:                                      287.5\nDf Model:                           1                                                  \nCovariance Type:            nonrobust                                                  \n==============================================================================\n                 coef    std err          t      P>|t|      [0.025      0.975]\n------------------------------------------------------------------------------\nx1             1.8612      0.089     20.846      0.000       1.684       2.038\n==============================================================================\nOmnibus:                        0.192   Durbin-Watson:                   2.131\nProb(Omnibus):                  0.909   Jarque-Bera (JB):                0.013\nSkew:                          -0.008   Prob(JB):                        0.994\nKurtosis:                       3.053   Cond. No.                         1.00\n==============================================================================\n\nNotes:\n[1] R² is computed without centering (uncentered) since the model does not contain a constant.\n[2] Standard Errors assume that the covariance matrix of the errors is correctly specified.\n"
     ]
    }
   ],
   "source": [
    "lm = sm.OLS(y,x)\n",
    "res = lm.fit()\n",
    "print(res.summary())"
   ]
  },
  {
   "source": [
    "The model gives a significantly good approximation of our dataset with a good R-squared value and neglibile p-value."
   ],
   "cell_type": "markdown",
   "metadata": {}
  },
  {
   "cell_type": "code",
   "execution_count": 4,
   "metadata": {},
   "outputs": [
    {
     "output_type": "stream",
     "name": "stdout",
     "text": [
      "                                 OLS Regression Results                                \n=======================================================================================\nDep. Variable:                      y   R-squared (uncentered):                   0.814\nModel:                            OLS   Adj. R-squared (uncentered):              0.813\nMethod:                 Least Squares   F-statistic:                              434.6\nDate:                Tue, 13 Apr 2021   Prob (F-statistic):                    5.43e-38\nTime:                        23:29:16   Log-Likelihood:                         -69.059\nNo. Observations:                 100   AIC:                                      140.1\nDf Residuals:                      99   BIC:                                      142.7\nDf Model:                           1                                                  \nCovariance Type:            nonrobust                                                  \n==============================================================================\n                 coef    std err          t      P>|t|      [0.025      0.975]\n------------------------------------------------------------------------------\nx1             0.4376      0.021     20.846      0.000       0.396       0.479\n==============================================================================\nOmnibus:                        0.114   Durbin-Watson:                   1.763\nProb(Omnibus):                  0.945   Jarque-Bera (JB):                0.157\nSkew:                          -0.077   Prob(JB):                        0.924\nKurtosis:                       2.881   Cond. No.                         1.00\n==============================================================================\n\nNotes:\n[1] R² is computed without centering (uncentered) since the model does not contain a constant.\n[2] Standard Errors assume that the covariance matrix of the errors is correctly specified.\n"
     ]
    }
   ],
   "source": [
    "lm2 = sm.OLS(x,y)\n",
    "res2 = lm2.fit()\n",
    "print(res2.summary())"
   ]
  },
  {
   "source": [
    "Since this just flips our model about y = x, the coefficient is just a multiplicative inverse of our previous coefficient while t-statistic and R-squared values remain the same"
   ],
   "cell_type": "markdown",
   "metadata": {}
  },
  {
   "cell_type": "code",
   "execution_count": 5,
   "metadata": {},
   "outputs": [
    {
     "output_type": "stream",
     "name": "stdout",
     "text": [
      "                            OLS Regression Results                            \n==============================================================================\nDep. Variable:                      y   R-squared:                       0.814\nModel:                            OLS   Adj. R-squared:                  0.812\nMethod:                 Least Squares   F-statistic:                     428.8\nDate:                Tue, 13 Apr 2021   Prob (F-statistic):           1.43e-37\nTime:                        23:29:16   Log-Likelihood:                -141.38\nNo. Observations:                 100   AIC:                             286.8\nDf Residuals:                      98   BIC:                             292.0\nDf Model:                           1                                         \nCovariance Type:            nonrobust                                         \n==============================================================================\n                 coef    std err          t      P>|t|      [0.025      0.975]\n------------------------------------------------------------------------------\nconst          0.0371      0.101      0.368      0.714      -0.163       0.237\nx1             1.8641      0.090     20.709      0.000       1.685       2.043\n==============================================================================\nOmnibus:                        0.191   Durbin-Watson:                   2.131\nProb(Omnibus):                  0.909   Jarque-Bera (JB):                0.013\nSkew:                          -0.008   Prob(JB):                        0.994\nKurtosis:                       3.053   Cond. No.                         1.15\n==============================================================================\n\nNotes:\n[1] Standard Errors assume that the covariance matrix of the errors is correctly specified.\n"
     ]
    }
   ],
   "source": [
    "lm3 = sm.OLS(y, sm.add_constant(x))\n",
    "res3 = lm3.fit()\n",
    "print(res3.summary())"
   ]
  },
  {
   "cell_type": "code",
   "execution_count": 6,
   "metadata": {},
   "outputs": [
    {
     "output_type": "stream",
     "name": "stdout",
     "text": [
      "                            OLS Regression Results                            \n==============================================================================\nDep. Variable:                      y   R-squared:                       0.814\nModel:                            OLS   Adj. R-squared:                  0.812\nMethod:                 Least Squares   F-statistic:                     428.8\nDate:                Tue, 13 Apr 2021   Prob (F-statistic):           1.43e-37\nTime:                        23:29:17   Log-Likelihood:                -68.807\nNo. Observations:                 100   AIC:                             141.6\nDf Residuals:                      98   BIC:                             146.8\nDf Model:                           1                                         \nCovariance Type:            nonrobust                                         \n==============================================================================\n                 coef    std err          t      P>|t|      [0.025      0.975]\n------------------------------------------------------------------------------\nconst         -0.0343      0.049     -0.703      0.483      -0.131       0.062\nx1             0.4367      0.021     20.709      0.000       0.395       0.479\n==============================================================================\nOmnibus:                        0.116   Durbin-Watson:                   1.769\nProb(Omnibus):                  0.944   Jarque-Bera (JB):                0.162\nSkew:                          -0.078   Prob(JB):                        0.922\nKurtosis:                       2.879   Cond. No.                         2.32\n==============================================================================\n\nNotes:\n[1] Standard Errors assume that the covariance matrix of the errors is correctly specified.\n"
     ]
    }
   ],
   "source": [
    "lm4 = sm.OLS(x, sm.add_constant(y))\n",
    "res4 = lm4.fit()\n",
    "print(res4.summary())"
   ]
  },
  {
   "source": [
    "Again, the t-statistic and R-squared remain the same with a flip of res3 about y = x and intercept is adjusted accordingly."
   ],
   "cell_type": "markdown",
   "metadata": {}
  }
 ]
}