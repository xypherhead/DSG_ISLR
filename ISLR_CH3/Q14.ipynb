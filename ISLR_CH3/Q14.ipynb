{
 "metadata": {
  "language_info": {
   "codemirror_mode": {
    "name": "ipython",
    "version": 3
   },
   "file_extension": ".py",
   "mimetype": "text/x-python",
   "name": "python",
   "nbconvert_exporter": "python",
   "pygments_lexer": "ipython3",
   "version": "3.9.2"
  },
  "orig_nbformat": 2,
  "kernelspec": {
   "name": "python3",
   "display_name": "Python 3",
   "language": "python"
  }
 },
 "nbformat": 4,
 "nbformat_minor": 2,
 "cells": [
  {
   "source": [
    "# Q14"
   ],
   "cell_type": "markdown",
   "metadata": {}
  },
  {
   "cell_type": "code",
   "execution_count": 1,
   "metadata": {},
   "outputs": [],
   "source": [
    "import numpy as np\n",
    "import matplotlib.pyplot as plt\n",
    "import pandas as pd \n",
    "import math\n",
    "import random as rn\n",
    "\n",
    "import statsmodels.api as sm\n",
    "import statsmodels.formula.api as smf\n",
    "from statsmodels.graphics.regressionplots import *\n",
    "from sklearn import datasets, linear_model\n",
    "from patsy import dmatrices"
   ]
  },
  {
   "cell_type": "code",
   "execution_count": 2,
   "metadata": {},
   "outputs": [],
   "source": [
    "# part a\n",
    "np.random.seed(1)\n",
    "x1 = np.random.rand(100)\n",
    "x2 = 0.5*x1 + np.random.normal(0,1,100)/10\n",
    "y = 2 + 2*x1 + 0.3*x2 + np.random.normal(0,1,100)"
   ]
  },
  {
   "source": [
    "Our linear model for regression appears to be of the form y = B0 + B1x1 + B2x2 + e, where the coefficients are <br>\n",
    "B0 = 2<br>\n",
    "B1 = 2<br>\n",
    "B2 = 0.3"
   ],
   "cell_type": "markdown",
   "metadata": {}
  },
  {
   "cell_type": "code",
   "execution_count": 3,
   "metadata": {},
   "outputs": [
    {
     "output_type": "execute_result",
     "data": {
      "text/plain": [
       "array([[1.        , 0.83905962],\n",
       "       [0.83905962, 1.        ]])"
      ]
     },
     "metadata": {},
     "execution_count": 3
    }
   ],
   "source": [
    "# part b\n",
    "np.corrcoef(x1, x2)"
   ]
  },
  {
   "cell_type": "code",
   "execution_count": 4,
   "metadata": {},
   "outputs": [
    {
     "output_type": "execute_result",
     "data": {
      "text/plain": [
       "Text(0.5, 0, 'x1')"
      ]
     },
     "metadata": {},
     "execution_count": 4
    },
    {
     "output_type": "display_data",
     "data": {
      "text/plain": "<Figure size 432x288 with 1 Axes>",
      "image/svg+xml": "<?xml version=\"1.0\" encoding=\"utf-8\" standalone=\"no\"?>\n<!DOCTYPE svg PUBLIC \"-//W3C//DTD SVG 1.1//EN\"\n  \"http://www.w3.org/Graphics/SVG/1.1/DTD/svg11.dtd\">\n<svg height=\"262.19625pt\" version=\"1.1\" viewBox=\"0 0 394.160937 262.19625\" width=\"394.160937pt\" xmlns=\"http://www.w3.org/2000/svg\" xmlns:xlink=\"http://www.w3.org/1999/xlink\">\n <metadata>\n  <rdf:RDF xmlns:cc=\"http://creativecommons.org/ns#\" xmlns:dc=\"http://purl.org/dc/elements/1.1/\" xmlns:rdf=\"http://www.w3.org/1999/02/22-rdf-syntax-ns#\">\n   <cc:Work>\n    <dc:type rdf:resource=\"http://purl.org/dc/dcmitype/StillImage\"/>\n    <dc:date>2021-04-21T01:06:07.995376</dc:date>\n    <dc:format>image/svg+xml</dc:format>\n    <dc:creator>\n     <cc:Agent>\n      <dc:title>Matplotlib v3.4.1, https://matplotlib.org/</dc:title>\n     </cc:Agent>\n    </dc:creator>\n   </cc:Work>\n  </rdf:RDF>\n </metadata>\n <defs>\n  <style type=\"text/css\">*{stroke-linecap:butt;stroke-linejoin:round;}</style>\n </defs>\n <g id=\"figure_1\">\n  <g id=\"patch_1\">\n   <path d=\"M 0 262.19625 \nL 394.160937 262.19625 \nL 394.160937 0 \nL 0 0 \nz\n\" style=\"fill:none;\"/>\n  </g>\n  <g id=\"axes_1\">\n   <g id=\"patch_2\">\n    <path d=\"M 52.160938 224.64 \nL 386.960938 224.64 \nL 386.960938 7.2 \nL 52.160938 7.2 \nz\n\" style=\"fill:#ffffff;\"/>\n   </g>\n   <g id=\"PathCollection_1\">\n    <defs>\n     <path d=\"M 0 3 \nC 0.795609 3 1.55874 2.683901 2.12132 2.12132 \nC 2.683901 1.55874 3 0.795609 3 0 \nC 3 -0.795609 2.683901 -1.55874 2.12132 -2.12132 \nC 1.55874 -2.683901 0.795609 -3 0 -3 \nC -0.795609 -3 -1.55874 -2.683901 -2.12132 -2.12132 \nC -2.683901 -1.55874 -3 -0.795609 -3 0 \nC -3 0.795609 -2.683901 1.55874 -2.12132 2.12132 \nC -1.55874 2.683901 -0.795609 3 0 3 \nz\n\" id=\"m703c3374b3\" style=\"stroke:#1f77b4;\"/>\n    </defs>\n    <g clip-path=\"url(#p6eb6f74a0c)\">\n     <use style=\"fill:#1f77b4;stroke:#1f77b4;\" x=\"195.71484\" xlink:href=\"#m703c3374b3\" y=\"106.194753\"/>\n     <use style=\"fill:#1f77b4;stroke:#1f77b4;\" x=\"289.079751\" xlink:href=\"#m703c3374b3\" y=\"127.618717\"/>\n     <use style=\"fill:#1f77b4;stroke:#1f77b4;\" x=\"67.379119\" xlink:href=\"#m703c3374b3\" y=\"176.789726\"/>\n     <use style=\"fill:#1f77b4;stroke:#1f77b4;\" x=\"160.410255\" xlink:href=\"#m703c3374b3\" y=\"107.788721\"/>\n     <use style=\"fill:#1f77b4;stroke:#1f77b4;\" x=\"112.519441\" xlink:href=\"#m703c3374b3\" y=\"143.675063\"/>\n     <use style=\"fill:#1f77b4;stroke:#1f77b4;\" x=\"95.76829\" xlink:href=\"#m703c3374b3\" y=\"136.897483\"/>\n     <use style=\"fill:#1f77b4;stroke:#1f77b4;\" x=\"124.679966\" xlink:href=\"#m703c3374b3\" y=\"150.324081\"/>\n     <use style=\"fill:#1f77b4;stroke:#1f77b4;\" x=\"173.717079\" xlink:href=\"#m703c3374b3\" y=\"128.98492\"/>\n     <use style=\"fill:#1f77b4;stroke:#1f77b4;\" x=\"189.479934\" xlink:href=\"#m703c3374b3\" y=\"112.203259\"/>\n     <use style=\"fill:#1f77b4;stroke:#1f77b4;\" x=\"233.206633\" xlink:href=\"#m703c3374b3\" y=\"87.847042\"/>\n     <use style=\"fill:#1f77b4;stroke:#1f77b4;\" x=\"196.383599\" xlink:href=\"#m703c3374b3\" y=\"108.972058\"/>\n     <use style=\"fill:#1f77b4;stroke:#1f77b4;\" x=\"278.273461\" xlink:href=\"#m703c3374b3\" y=\"76.344461\"/>\n     <use style=\"fill:#1f77b4;stroke:#1f77b4;\" x=\"130.279979\" xlink:href=\"#m703c3374b3\" y=\"159.646065\"/>\n     <use style=\"fill:#1f77b4;stroke:#1f77b4;\" x=\"337.652791\" xlink:href=\"#m703c3374b3\" y=\"44.441731\"/>\n     <use style=\"fill:#1f77b4;stroke:#1f77b4;\" x=\"75.774572\" xlink:href=\"#m703c3374b3\" y=\"162.067759\"/>\n     <use style=\"fill:#1f77b4;stroke:#1f77b4;\" x=\"273.73239\" xlink:href=\"#m703c3374b3\" y=\"51.910544\"/>\n     <use style=\"fill:#1f77b4;stroke:#1f77b4;\" x=\"195.801893\" xlink:href=\"#m703c3374b3\" y=\"83.117719\"/>\n     <use style=\"fill:#1f77b4;stroke:#1f77b4;\" x=\"239.324122\" xlink:href=\"#m703c3374b3\" y=\"91.121446\"/>\n     <use style=\"fill:#1f77b4;stroke:#1f77b4;\" x=\"110.558901\" xlink:href=\"#m703c3374b3\" y=\"160.296857\"/>\n     <use style=\"fill:#1f77b4;stroke:#1f77b4;\" x=\"128.325039\" xlink:href=\"#m703c3374b3\" y=\"159.64142\"/>\n     <use style=\"fill:#1f77b4;stroke:#1f77b4;\" x=\"313.835278\" xlink:href=\"#m703c3374b3\" y=\"53.334879\"/>\n     <use style=\"fill:#1f77b4;stroke:#1f77b4;\" x=\"365.401655\" xlink:href=\"#m703c3374b3\" y=\"40.516066\"/>\n     <use style=\"fill:#1f77b4;stroke:#1f77b4;\" x=\"163.824558\" xlink:href=\"#m703c3374b3\" y=\"136.90888\"/>\n     <use style=\"fill:#1f77b4;stroke:#1f77b4;\" x=\"280.459997\" xlink:href=\"#m703c3374b3\" y=\"77.385141\"/>\n     <use style=\"fill:#1f77b4;stroke:#1f77b4;\" x=\"337.120777\" xlink:href=\"#m703c3374b3\" y=\"70.688291\"/>\n     <use style=\"fill:#1f77b4;stroke:#1f77b4;\" x=\"342.728632\" xlink:href=\"#m703c3374b3\" y=\"33.93184\"/>\n     <use style=\"fill:#1f77b4;stroke:#1f77b4;\" x=\"93.522876\" xlink:href=\"#m703c3374b3\" y=\"169.388861\"/>\n     <use style=\"fill:#1f77b4;stroke:#1f77b4;\" x=\"79.366056\" xlink:href=\"#m703c3374b3\" y=\"131.782865\"/>\n     <use style=\"fill:#1f77b4;stroke:#1f77b4;\" x=\"119.622421\" xlink:href=\"#m703c3374b3\" y=\"136.142603\"/>\n     <use style=\"fill:#1f77b4;stroke:#1f77b4;\" x=\"337.660507\" xlink:href=\"#m703c3374b3\" y=\"38.803787\"/>\n     <use style=\"fill:#1f77b4;stroke:#1f77b4;\" x=\"97.617792\" xlink:href=\"#m703c3374b3\" y=\"184.551106\"/>\n     <use style=\"fill:#1f77b4;stroke:#1f77b4;\" x=\"196.972507\" xlink:href=\"#m703c3374b3\" y=\"109.476842\"/>\n     <use style=\"fill:#1f77b4;stroke:#1f77b4;\" x=\"362.208852\" xlink:href=\"#m703c3374b3\" y=\"24.569038\"/>\n     <use style=\"fill:#1f77b4;stroke:#1f77b4;\" x=\"231.46696\" xlink:href=\"#m703c3374b3\" y=\"124.157161\"/>\n     <use style=\"fill:#1f77b4;stroke:#1f77b4;\" x=\"280.322859\" xlink:href=\"#m703c3374b3\" y=\"85.524678\"/>\n     <use style=\"fill:#1f77b4;stroke:#1f77b4;\" x=\"164.468366\" xlink:href=\"#m703c3374b3\" y=\"126.816054\"/>\n     <use style=\"fill:#1f77b4;stroke:#1f77b4;\" x=\"278.66792\" xlink:href=\"#m703c3374b3\" y=\"115.098957\"/>\n     <use style=\"fill:#1f77b4;stroke:#1f77b4;\" x=\"324.264821\" xlink:href=\"#m703c3374b3\" y=\"51.741873\"/>\n     <use style=\"fill:#1f77b4;stroke:#1f77b4;\" x=\"72.97355\" xlink:href=\"#m703c3374b3\" y=\"144.360364\"/>\n     <use style=\"fill:#1f77b4;stroke:#1f77b4;\" x=\"298.259118\" xlink:href=\"#m703c3374b3\" y=\"93.401245\"/>\n     <use style=\"fill:#1f77b4;stroke:#1f77b4;\" x=\"371.742756\" xlink:href=\"#m703c3374b3\" y=\"30.70292\"/>\n     <use style=\"fill:#1f77b4;stroke:#1f77b4;\" x=\"297.650031\" xlink:href=\"#m703c3374b3\" y=\"105.469602\"/>\n     <use style=\"fill:#1f77b4;stroke:#1f77b4;\" x=\"153.672343\" xlink:href=\"#m703c3374b3\" y=\"133.250315\"/>\n     <use style=\"fill:#1f77b4;stroke:#1f77b4;\" x=\"310.305959\" xlink:href=\"#m703c3374b3\" y=\"108.023828\"/>\n     <use style=\"fill:#1f77b4;stroke:#1f77b4;\" x=\"99.119737\" xlink:href=\"#m703c3374b3\" y=\"126.102506\"/>\n     <use style=\"fill:#1f77b4;stroke:#1f77b4;\" x=\"205.21795\" xlink:href=\"#m703c3374b3\" y=\"99.735581\"/>\n     <use style=\"fill:#1f77b4;stroke:#1f77b4;\" x=\"347.034784\" xlink:href=\"#m703c3374b3\" y=\"50.957433\"/>\n     <use style=\"fill:#1f77b4;stroke:#1f77b4;\" x=\"157.726482\" xlink:href=\"#m703c3374b3\" y=\"150.7431\"/>\n     <use style=\"fill:#1f77b4;stroke:#1f77b4;\" x=\"155.929135\" xlink:href=\"#m703c3374b3\" y=\"98.059264\"/>\n     <use style=\"fill:#1f77b4;stroke:#1f77b4;\" x=\"107.370309\" xlink:href=\"#m703c3374b3\" y=\"100.547429\"/>\n     <use style=\"fill:#1f77b4;stroke:#1f77b4;\" x=\"73.305598\" xlink:href=\"#m703c3374b3\" y=\"214.756364\"/>\n     <use style=\"fill:#1f77b4;stroke:#1f77b4;\" x=\"276.308299\" xlink:href=\"#m703c3374b3\" y=\"48.036442\"/>\n     <use style=\"fill:#1f77b4;stroke:#1f77b4;\" x=\"132.48891\" xlink:href=\"#m703c3374b3\" y=\"98.75941\"/>\n     <use style=\"fill:#1f77b4;stroke:#1f77b4;\" x=\"149.086532\" xlink:href=\"#m703c3374b3\" y=\"125.36699\"/>\n     <use style=\"fill:#1f77b4;stroke:#1f77b4;\" x=\"218.663751\" xlink:href=\"#m703c3374b3\" y=\"135.987294\"/>\n     <use style=\"fill:#1f77b4;stroke:#1f77b4;\" x=\"83.770382\" xlink:href=\"#m703c3374b3\" y=\"139.337603\"/>\n     <use style=\"fill:#1f77b4;stroke:#1f77b4;\" x=\"244.073219\" xlink:href=\"#m703c3374b3\" y=\"98.658296\"/>\n     <use style=\"fill:#1f77b4;stroke:#1f77b4;\" x=\"112.511033\" xlink:href=\"#m703c3374b3\" y=\"165.433648\"/>\n     <use style=\"fill:#1f77b4;stroke:#1f77b4;\" x=\"248.748485\" xlink:href=\"#m703c3374b3\" y=\"124.043856\"/>\n     <use style=\"fill:#1f77b4;stroke:#1f77b4;\" x=\"282.748925\" xlink:href=\"#m703c3374b3\" y=\"63.191963\"/>\n     <use style=\"fill:#1f77b4;stroke:#1f77b4;\" x=\"98.845284\" xlink:href=\"#m703c3374b3\" y=\"134.790497\"/>\n     <use style=\"fill:#1f77b4;stroke:#1f77b4;\" x=\"194.801818\" xlink:href=\"#m703c3374b3\" y=\"131.079424\"/>\n     <use style=\"fill:#1f77b4;stroke:#1f77b4;\" x=\"281.099522\" xlink:href=\"#m703c3374b3\" y=\"64.672325\"/>\n     <use style=\"fill:#1f77b4;stroke:#1f77b4;\" x=\"194.839767\" xlink:href=\"#m703c3374b3\" y=\"144.648523\"/>\n     <use style=\"fill:#1f77b4;stroke:#1f77b4;\" x=\"82.72097\" xlink:href=\"#m703c3374b3\" y=\"141.386025\"/>\n     <use style=\"fill:#1f77b4;stroke:#1f77b4;\" x=\"232.307675\" xlink:href=\"#m703c3374b3\" y=\"97.709294\"/>\n     <use style=\"fill:#1f77b4;stroke:#1f77b4;\" x=\"271.678297\" xlink:href=\"#m703c3374b3\" y=\"87.109677\"/>\n     <use style=\"fill:#1f77b4;stroke:#1f77b4;\" x=\"225.841048\" xlink:href=\"#m703c3374b3\" y=\"104.317837\"/>\n     <use style=\"fill:#1f77b4;stroke:#1f77b4;\" x=\"358.116352\" xlink:href=\"#m703c3374b3\" y=\"22.955549\"/>\n     <use style=\"fill:#1f77b4;stroke:#1f77b4;\" x=\"247.901806\" xlink:href=\"#m703c3374b3\" y=\"72.74267\"/>\n     <use style=\"fill:#1f77b4;stroke:#1f77b4;\" x=\"345.436054\" xlink:href=\"#m703c3374b3\" y=\"37.181741\"/>\n     <use style=\"fill:#1f77b4;stroke:#1f77b4;\" x=\"109.662435\" xlink:href=\"#m703c3374b3\" y=\"147.295602\"/>\n     <use style=\"fill:#1f77b4;stroke:#1f77b4;\" x=\"110.217031\" xlink:href=\"#m703c3374b3\" y=\"148.622579\"/>\n     <use style=\"fill:#1f77b4;stroke:#1f77b4;\" x=\"315.881323\" xlink:href=\"#m703c3374b3\" y=\"47.384455\"/>\n     <use style=\"fill:#1f77b4;stroke:#1f77b4;\" x=\"189.759861\" xlink:href=\"#m703c3374b3\" y=\"110.886505\"/>\n     <use style=\"fill:#1f77b4;stroke:#1f77b4;\" x=\"118.244515\" xlink:href=\"#m703c3374b3\" y=\"129.447223\"/>\n     <use style=\"fill:#1f77b4;stroke:#1f77b4;\" x=\"352.856754\" xlink:href=\"#m703c3374b3\" y=\"55.937896\"/>\n     <use style=\"fill:#1f77b4;stroke:#1f77b4;\" x=\"174.39588\" xlink:href=\"#m703c3374b3\" y=\"186.972567\"/>\n     <use style=\"fill:#1f77b4;stroke:#1f77b4;\" x=\"298.464682\" xlink:href=\"#m703c3374b3\" y=\"43.796549\"/>\n     <use style=\"fill:#1f77b4;stroke:#1f77b4;\" x=\"290.826209\" xlink:href=\"#m703c3374b3\" y=\"17.083636\"/>\n     <use style=\"fill:#1f77b4;stroke:#1f77b4;\" x=\"339.250003\" xlink:href=\"#m703c3374b3\" y=\"42.10079\"/>\n     <use style=\"fill:#1f77b4;stroke:#1f77b4;\" x=\"259.327499\" xlink:href=\"#m703c3374b3\" y=\"90.088486\"/>\n     <use style=\"fill:#1f77b4;stroke:#1f77b4;\" x=\"298.504801\" xlink:href=\"#m703c3374b3\" y=\"74.436072\"/>\n     <use style=\"fill:#1f77b4;stroke:#1f77b4;\" x=\"174.744489\" xlink:href=\"#m703c3374b3\" y=\"126.418397\"/>\n     <use style=\"fill:#1f77b4;stroke:#1f77b4;\" x=\"150.435196\" xlink:href=\"#m703c3374b3\" y=\"133.158382\"/>\n     <use style=\"fill:#1f77b4;stroke:#1f77b4;\" x=\"343.122514\" xlink:href=\"#m703c3374b3\" y=\"81.240393\"/>\n     <use style=\"fill:#1f77b4;stroke:#1f77b4;\" x=\"199.122242\" xlink:href=\"#m703c3374b3\" y=\"126.47255\"/>\n     <use style=\"fill:#1f77b4;stroke:#1f77b4;\" x=\"364.348413\" xlink:href=\"#m703c3374b3\" y=\"68.986827\"/>\n     <use style=\"fill:#1f77b4;stroke:#1f77b4;\" x=\"271.569588\" xlink:href=\"#m703c3374b3\" y=\"75.799278\"/>\n     <use style=\"fill:#1f77b4;stroke:#1f77b4;\" x=\"258.719081\" xlink:href=\"#m703c3374b3\" y=\"95.471538\"/>\n     <use style=\"fill:#1f77b4;stroke:#1f77b4;\" x=\"102.665902\" xlink:href=\"#m703c3374b3\" y=\"140.934425\"/>\n     <use style=\"fill:#1f77b4;stroke:#1f77b4;\" x=\"359.623015\" xlink:href=\"#m703c3374b3\" y=\"49.538882\"/>\n     <use style=\"fill:#1f77b4;stroke:#1f77b4;\" x=\"205.839333\" xlink:href=\"#m703c3374b3\" y=\"84.410111\"/>\n     <use style=\"fill:#1f77b4;stroke:#1f77b4;\" x=\"245.388262\" xlink:href=\"#m703c3374b3\" y=\"87.811915\"/>\n     <use style=\"fill:#1f77b4;stroke:#1f77b4;\" x=\"192.979729\" xlink:href=\"#m703c3374b3\" y=\"58.443131\"/>\n     <use style=\"fill:#1f77b4;stroke:#1f77b4;\" x=\"140.307384\" xlink:href=\"#m703c3374b3\" y=\"187.369512\"/>\n     <use style=\"fill:#1f77b4;stroke:#1f77b4;\" x=\"345.42916\" xlink:href=\"#m703c3374b3\" y=\"67.870207\"/>\n     <use style=\"fill:#1f77b4;stroke:#1f77b4;\" x=\"243.938354\" xlink:href=\"#m703c3374b3\" y=\"70.481194\"/>\n     <use style=\"fill:#1f77b4;stroke:#1f77b4;\" x=\"68.227478\" xlink:href=\"#m703c3374b3\" y=\"102.492493\"/>\n     <use style=\"fill:#1f77b4;stroke:#1f77b4;\" x=\"257.318217\" xlink:href=\"#m703c3374b3\" y=\"94.812839\"/>\n    </g>\n   </g>\n   <g id=\"matplotlib.axis_1\">\n    <g id=\"xtick_1\">\n     <g id=\"line2d_1\">\n      <defs>\n       <path d=\"M 0 0 \nL 0 3.5 \n\" id=\"m5dd53afed9\" style=\"stroke:#000000;stroke-width:0.8;\"/>\n      </defs>\n      <g>\n       <use style=\"stroke:#000000;stroke-width:0.8;\" x=\"67.343912\" xlink:href=\"#m5dd53afed9\" y=\"224.64\"/>\n      </g>\n     </g>\n     <g id=\"text_1\">\n      <!-- 0.0 -->\n      <g transform=\"translate(59.392349 239.238437)scale(0.1 -0.1)\">\n       <defs>\n        <path d=\"M 2034 4250 \nQ 1547 4250 1301 3770 \nQ 1056 3291 1056 2328 \nQ 1056 1369 1301 889 \nQ 1547 409 2034 409 \nQ 2525 409 2770 889 \nQ 3016 1369 3016 2328 \nQ 3016 3291 2770 3770 \nQ 2525 4250 2034 4250 \nz\nM 2034 4750 \nQ 2819 4750 3233 4129 \nQ 3647 3509 3647 2328 \nQ 3647 1150 3233 529 \nQ 2819 -91 2034 -91 \nQ 1250 -91 836 529 \nQ 422 1150 422 2328 \nQ 422 3509 836 4129 \nQ 1250 4750 2034 4750 \nz\n\" id=\"DejaVuSans-30\" transform=\"scale(0.015625)\"/>\n        <path d=\"M 684 794 \nL 1344 794 \nL 1344 0 \nL 684 0 \nL 684 794 \nz\n\" id=\"DejaVuSans-2e\" transform=\"scale(0.015625)\"/>\n       </defs>\n       <use xlink:href=\"#DejaVuSans-30\"/>\n       <use x=\"63.623047\" xlink:href=\"#DejaVuSans-2e\"/>\n       <use x=\"95.410156\" xlink:href=\"#DejaVuSans-30\"/>\n      </g>\n     </g>\n    </g>\n    <g id=\"xtick_2\">\n     <g id=\"line2d_2\">\n      <g>\n       <use style=\"stroke:#000000;stroke-width:0.8;\" x=\"128.909453\" xlink:href=\"#m5dd53afed9\" y=\"224.64\"/>\n      </g>\n     </g>\n     <g id=\"text_2\">\n      <!-- 0.2 -->\n      <g transform=\"translate(120.957891 239.238437)scale(0.1 -0.1)\">\n       <defs>\n        <path d=\"M 1228 531 \nL 3431 531 \nL 3431 0 \nL 469 0 \nL 469 531 \nQ 828 903 1448 1529 \nQ 2069 2156 2228 2338 \nQ 2531 2678 2651 2914 \nQ 2772 3150 2772 3378 \nQ 2772 3750 2511 3984 \nQ 2250 4219 1831 4219 \nQ 1534 4219 1204 4116 \nQ 875 4013 500 3803 \nL 500 4441 \nQ 881 4594 1212 4672 \nQ 1544 4750 1819 4750 \nQ 2544 4750 2975 4387 \nQ 3406 4025 3406 3419 \nQ 3406 3131 3298 2873 \nQ 3191 2616 2906 2266 \nQ 2828 2175 2409 1742 \nQ 1991 1309 1228 531 \nz\n\" id=\"DejaVuSans-32\" transform=\"scale(0.015625)\"/>\n       </defs>\n       <use xlink:href=\"#DejaVuSans-30\"/>\n       <use x=\"63.623047\" xlink:href=\"#DejaVuSans-2e\"/>\n       <use x=\"95.410156\" xlink:href=\"#DejaVuSans-32\"/>\n      </g>\n     </g>\n    </g>\n    <g id=\"xtick_3\">\n     <g id=\"line2d_3\">\n      <g>\n       <use style=\"stroke:#000000;stroke-width:0.8;\" x=\"190.474995\" xlink:href=\"#m5dd53afed9\" y=\"224.64\"/>\n      </g>\n     </g>\n     <g id=\"text_3\">\n      <!-- 0.4 -->\n      <g transform=\"translate(182.523433 239.238437)scale(0.1 -0.1)\">\n       <defs>\n        <path d=\"M 2419 4116 \nL 825 1625 \nL 2419 1625 \nL 2419 4116 \nz\nM 2253 4666 \nL 3047 4666 \nL 3047 1625 \nL 3713 1625 \nL 3713 1100 \nL 3047 1100 \nL 3047 0 \nL 2419 0 \nL 2419 1100 \nL 313 1100 \nL 313 1709 \nL 2253 4666 \nz\n\" id=\"DejaVuSans-34\" transform=\"scale(0.015625)\"/>\n       </defs>\n       <use xlink:href=\"#DejaVuSans-30\"/>\n       <use x=\"63.623047\" xlink:href=\"#DejaVuSans-2e\"/>\n       <use x=\"95.410156\" xlink:href=\"#DejaVuSans-34\"/>\n      </g>\n     </g>\n    </g>\n    <g id=\"xtick_4\">\n     <g id=\"line2d_4\">\n      <g>\n       <use style=\"stroke:#000000;stroke-width:0.8;\" x=\"252.040537\" xlink:href=\"#m5dd53afed9\" y=\"224.64\"/>\n      </g>\n     </g>\n     <g id=\"text_4\">\n      <!-- 0.6 -->\n      <g transform=\"translate(244.088975 239.238437)scale(0.1 -0.1)\">\n       <defs>\n        <path d=\"M 2113 2584 \nQ 1688 2584 1439 2293 \nQ 1191 2003 1191 1497 \nQ 1191 994 1439 701 \nQ 1688 409 2113 409 \nQ 2538 409 2786 701 \nQ 3034 994 3034 1497 \nQ 3034 2003 2786 2293 \nQ 2538 2584 2113 2584 \nz\nM 3366 4563 \nL 3366 3988 \nQ 3128 4100 2886 4159 \nQ 2644 4219 2406 4219 \nQ 1781 4219 1451 3797 \nQ 1122 3375 1075 2522 \nQ 1259 2794 1537 2939 \nQ 1816 3084 2150 3084 \nQ 2853 3084 3261 2657 \nQ 3669 2231 3669 1497 \nQ 3669 778 3244 343 \nQ 2819 -91 2113 -91 \nQ 1303 -91 875 529 \nQ 447 1150 447 2328 \nQ 447 3434 972 4092 \nQ 1497 4750 2381 4750 \nQ 2619 4750 2861 4703 \nQ 3103 4656 3366 4563 \nz\n\" id=\"DejaVuSans-36\" transform=\"scale(0.015625)\"/>\n       </defs>\n       <use xlink:href=\"#DejaVuSans-30\"/>\n       <use x=\"63.623047\" xlink:href=\"#DejaVuSans-2e\"/>\n       <use x=\"95.410156\" xlink:href=\"#DejaVuSans-36\"/>\n      </g>\n     </g>\n    </g>\n    <g id=\"xtick_5\">\n     <g id=\"line2d_5\">\n      <g>\n       <use style=\"stroke:#000000;stroke-width:0.8;\" x=\"313.606079\" xlink:href=\"#m5dd53afed9\" y=\"224.64\"/>\n      </g>\n     </g>\n     <g id=\"text_5\">\n      <!-- 0.8 -->\n      <g transform=\"translate(305.654517 239.238437)scale(0.1 -0.1)\">\n       <defs>\n        <path d=\"M 2034 2216 \nQ 1584 2216 1326 1975 \nQ 1069 1734 1069 1313 \nQ 1069 891 1326 650 \nQ 1584 409 2034 409 \nQ 2484 409 2743 651 \nQ 3003 894 3003 1313 \nQ 3003 1734 2745 1975 \nQ 2488 2216 2034 2216 \nz\nM 1403 2484 \nQ 997 2584 770 2862 \nQ 544 3141 544 3541 \nQ 544 4100 942 4425 \nQ 1341 4750 2034 4750 \nQ 2731 4750 3128 4425 \nQ 3525 4100 3525 3541 \nQ 3525 3141 3298 2862 \nQ 3072 2584 2669 2484 \nQ 3125 2378 3379 2068 \nQ 3634 1759 3634 1313 \nQ 3634 634 3220 271 \nQ 2806 -91 2034 -91 \nQ 1263 -91 848 271 \nQ 434 634 434 1313 \nQ 434 1759 690 2068 \nQ 947 2378 1403 2484 \nz\nM 1172 3481 \nQ 1172 3119 1398 2916 \nQ 1625 2713 2034 2713 \nQ 2441 2713 2670 2916 \nQ 2900 3119 2900 3481 \nQ 2900 3844 2670 4047 \nQ 2441 4250 2034 4250 \nQ 1625 4250 1398 4047 \nQ 1172 3844 1172 3481 \nz\n\" id=\"DejaVuSans-38\" transform=\"scale(0.015625)\"/>\n       </defs>\n       <use xlink:href=\"#DejaVuSans-30\"/>\n       <use x=\"63.623047\" xlink:href=\"#DejaVuSans-2e\"/>\n       <use x=\"95.410156\" xlink:href=\"#DejaVuSans-38\"/>\n      </g>\n     </g>\n    </g>\n    <g id=\"xtick_6\">\n     <g id=\"line2d_6\">\n      <g>\n       <use style=\"stroke:#000000;stroke-width:0.8;\" x=\"375.171621\" xlink:href=\"#m5dd53afed9\" y=\"224.64\"/>\n      </g>\n     </g>\n     <g id=\"text_6\">\n      <!-- 1.0 -->\n      <g transform=\"translate(367.220059 239.238437)scale(0.1 -0.1)\">\n       <defs>\n        <path d=\"M 794 531 \nL 1825 531 \nL 1825 4091 \nL 703 3866 \nL 703 4441 \nL 1819 4666 \nL 2450 4666 \nL 2450 531 \nL 3481 531 \nL 3481 0 \nL 794 0 \nL 794 531 \nz\n\" id=\"DejaVuSans-31\" transform=\"scale(0.015625)\"/>\n       </defs>\n       <use xlink:href=\"#DejaVuSans-31\"/>\n       <use x=\"63.623047\" xlink:href=\"#DejaVuSans-2e\"/>\n       <use x=\"95.410156\" xlink:href=\"#DejaVuSans-30\"/>\n      </g>\n     </g>\n    </g>\n    <g id=\"text_7\">\n     <!-- x1 -->\n     <g transform=\"translate(213.420313 252.916562)scale(0.1 -0.1)\">\n      <defs>\n       <path d=\"M 3513 3500 \nL 2247 1797 \nL 3578 0 \nL 2900 0 \nL 1881 1375 \nL 863 0 \nL 184 0 \nL 1544 1831 \nL 300 3500 \nL 978 3500 \nL 1906 2253 \nL 2834 3500 \nL 3513 3500 \nz\n\" id=\"DejaVuSans-78\" transform=\"scale(0.015625)\"/>\n      </defs>\n      <use xlink:href=\"#DejaVuSans-78\"/>\n      <use x=\"59.179688\" xlink:href=\"#DejaVuSans-31\"/>\n     </g>\n    </g>\n   </g>\n   <g id=\"matplotlib.axis_2\">\n    <g id=\"ytick_1\">\n     <g id=\"line2d_7\">\n      <defs>\n       <path d=\"M 0 0 \nL -3.5 0 \n\" id=\"m23e9b6c5ce\" style=\"stroke:#000000;stroke-width:0.8;\"/>\n      </defs>\n      <g>\n       <use style=\"stroke:#000000;stroke-width:0.8;\" x=\"52.160938\" xlink:href=\"#m23e9b6c5ce\" y=\"220.986765\"/>\n      </g>\n     </g>\n     <g id=\"text_8\">\n      <!-- −0.2 -->\n      <g transform=\"translate(20.878125 224.785984)scale(0.1 -0.1)\">\n       <defs>\n        <path d=\"M 678 2272 \nL 4684 2272 \nL 4684 1741 \nL 678 1741 \nL 678 2272 \nz\n\" id=\"DejaVuSans-2212\" transform=\"scale(0.015625)\"/>\n       </defs>\n       <use xlink:href=\"#DejaVuSans-2212\"/>\n       <use x=\"83.789062\" xlink:href=\"#DejaVuSans-30\"/>\n       <use x=\"147.412109\" xlink:href=\"#DejaVuSans-2e\"/>\n       <use x=\"179.199219\" xlink:href=\"#DejaVuSans-32\"/>\n      </g>\n     </g>\n    </g>\n    <g id=\"ytick_2\">\n     <g id=\"line2d_8\">\n      <g>\n       <use style=\"stroke:#000000;stroke-width:0.8;\" x=\"52.160938\" xlink:href=\"#m23e9b6c5ce\" y=\"194.902088\"/>\n      </g>\n     </g>\n     <g id=\"text_9\">\n      <!-- −0.1 -->\n      <g transform=\"translate(20.878125 198.701307)scale(0.1 -0.1)\">\n       <use xlink:href=\"#DejaVuSans-2212\"/>\n       <use x=\"83.789062\" xlink:href=\"#DejaVuSans-30\"/>\n       <use x=\"147.412109\" xlink:href=\"#DejaVuSans-2e\"/>\n       <use x=\"179.199219\" xlink:href=\"#DejaVuSans-31\"/>\n      </g>\n     </g>\n    </g>\n    <g id=\"ytick_3\">\n     <g id=\"line2d_9\">\n      <g>\n       <use style=\"stroke:#000000;stroke-width:0.8;\" x=\"52.160938\" xlink:href=\"#m23e9b6c5ce\" y=\"168.817411\"/>\n      </g>\n     </g>\n     <g id=\"text_10\">\n      <!-- 0.0 -->\n      <g transform=\"translate(29.257812 172.616629)scale(0.1 -0.1)\">\n       <use xlink:href=\"#DejaVuSans-30\"/>\n       <use x=\"63.623047\" xlink:href=\"#DejaVuSans-2e\"/>\n       <use x=\"95.410156\" xlink:href=\"#DejaVuSans-30\"/>\n      </g>\n     </g>\n    </g>\n    <g id=\"ytick_4\">\n     <g id=\"line2d_10\">\n      <g>\n       <use style=\"stroke:#000000;stroke-width:0.8;\" x=\"52.160938\" xlink:href=\"#m23e9b6c5ce\" y=\"142.732733\"/>\n      </g>\n     </g>\n     <g id=\"text_11\">\n      <!-- 0.1 -->\n      <g transform=\"translate(29.257812 146.531952)scale(0.1 -0.1)\">\n       <use xlink:href=\"#DejaVuSans-30\"/>\n       <use x=\"63.623047\" xlink:href=\"#DejaVuSans-2e\"/>\n       <use x=\"95.410156\" xlink:href=\"#DejaVuSans-31\"/>\n      </g>\n     </g>\n    </g>\n    <g id=\"ytick_5\">\n     <g id=\"line2d_11\">\n      <g>\n       <use style=\"stroke:#000000;stroke-width:0.8;\" x=\"52.160938\" xlink:href=\"#m23e9b6c5ce\" y=\"116.648056\"/>\n      </g>\n     </g>\n     <g id=\"text_12\">\n      <!-- 0.2 -->\n      <g transform=\"translate(29.257812 120.447275)scale(0.1 -0.1)\">\n       <use xlink:href=\"#DejaVuSans-30\"/>\n       <use x=\"63.623047\" xlink:href=\"#DejaVuSans-2e\"/>\n       <use x=\"95.410156\" xlink:href=\"#DejaVuSans-32\"/>\n      </g>\n     </g>\n    </g>\n    <g id=\"ytick_6\">\n     <g id=\"line2d_12\">\n      <g>\n       <use style=\"stroke:#000000;stroke-width:0.8;\" x=\"52.160938\" xlink:href=\"#m23e9b6c5ce\" y=\"90.563379\"/>\n      </g>\n     </g>\n     <g id=\"text_13\">\n      <!-- 0.3 -->\n      <g transform=\"translate(29.257812 94.362597)scale(0.1 -0.1)\">\n       <defs>\n        <path d=\"M 2597 2516 \nQ 3050 2419 3304 2112 \nQ 3559 1806 3559 1356 \nQ 3559 666 3084 287 \nQ 2609 -91 1734 -91 \nQ 1441 -91 1130 -33 \nQ 819 25 488 141 \nL 488 750 \nQ 750 597 1062 519 \nQ 1375 441 1716 441 \nQ 2309 441 2620 675 \nQ 2931 909 2931 1356 \nQ 2931 1769 2642 2001 \nQ 2353 2234 1838 2234 \nL 1294 2234 \nL 1294 2753 \nL 1863 2753 \nQ 2328 2753 2575 2939 \nQ 2822 3125 2822 3475 \nQ 2822 3834 2567 4026 \nQ 2313 4219 1838 4219 \nQ 1578 4219 1281 4162 \nQ 984 4106 628 3988 \nL 628 4550 \nQ 988 4650 1302 4700 \nQ 1616 4750 1894 4750 \nQ 2613 4750 3031 4423 \nQ 3450 4097 3450 3541 \nQ 3450 3153 3228 2886 \nQ 3006 2619 2597 2516 \nz\n\" id=\"DejaVuSans-33\" transform=\"scale(0.015625)\"/>\n       </defs>\n       <use xlink:href=\"#DejaVuSans-30\"/>\n       <use x=\"63.623047\" xlink:href=\"#DejaVuSans-2e\"/>\n       <use x=\"95.410156\" xlink:href=\"#DejaVuSans-33\"/>\n      </g>\n     </g>\n    </g>\n    <g id=\"ytick_7\">\n     <g id=\"line2d_13\">\n      <g>\n       <use style=\"stroke:#000000;stroke-width:0.8;\" x=\"52.160938\" xlink:href=\"#m23e9b6c5ce\" y=\"64.478701\"/>\n      </g>\n     </g>\n     <g id=\"text_14\">\n      <!-- 0.4 -->\n      <g transform=\"translate(29.257812 68.27792)scale(0.1 -0.1)\">\n       <use xlink:href=\"#DejaVuSans-30\"/>\n       <use x=\"63.623047\" xlink:href=\"#DejaVuSans-2e\"/>\n       <use x=\"95.410156\" xlink:href=\"#DejaVuSans-34\"/>\n      </g>\n     </g>\n    </g>\n    <g id=\"ytick_8\">\n     <g id=\"line2d_14\">\n      <g>\n       <use style=\"stroke:#000000;stroke-width:0.8;\" x=\"52.160938\" xlink:href=\"#m23e9b6c5ce\" y=\"38.394024\"/>\n      </g>\n     </g>\n     <g id=\"text_15\">\n      <!-- 0.5 -->\n      <g transform=\"translate(29.257812 42.193243)scale(0.1 -0.1)\">\n       <defs>\n        <path d=\"M 691 4666 \nL 3169 4666 \nL 3169 4134 \nL 1269 4134 \nL 1269 2991 \nQ 1406 3038 1543 3061 \nQ 1681 3084 1819 3084 \nQ 2600 3084 3056 2656 \nQ 3513 2228 3513 1497 \nQ 3513 744 3044 326 \nQ 2575 -91 1722 -91 \nQ 1428 -91 1123 -41 \nQ 819 9 494 109 \nL 494 744 \nQ 775 591 1075 516 \nQ 1375 441 1709 441 \nQ 2250 441 2565 725 \nQ 2881 1009 2881 1497 \nQ 2881 1984 2565 2268 \nQ 2250 2553 1709 2553 \nQ 1456 2553 1204 2497 \nQ 953 2441 691 2322 \nL 691 4666 \nz\n\" id=\"DejaVuSans-35\" transform=\"scale(0.015625)\"/>\n       </defs>\n       <use xlink:href=\"#DejaVuSans-30\"/>\n       <use x=\"63.623047\" xlink:href=\"#DejaVuSans-2e\"/>\n       <use x=\"95.410156\" xlink:href=\"#DejaVuSans-35\"/>\n      </g>\n     </g>\n    </g>\n    <g id=\"ytick_9\">\n     <g id=\"line2d_15\">\n      <g>\n       <use style=\"stroke:#000000;stroke-width:0.8;\" x=\"52.160938\" xlink:href=\"#m23e9b6c5ce\" y=\"12.309347\"/>\n      </g>\n     </g>\n     <g id=\"text_16\">\n      <!-- 0.6 -->\n      <g transform=\"translate(29.257812 16.108566)scale(0.1 -0.1)\">\n       <use xlink:href=\"#DejaVuSans-30\"/>\n       <use x=\"63.623047\" xlink:href=\"#DejaVuSans-2e\"/>\n       <use x=\"95.410156\" xlink:href=\"#DejaVuSans-36\"/>\n      </g>\n     </g>\n    </g>\n    <g id=\"text_17\">\n     <!-- x2 -->\n     <g transform=\"translate(14.798438 122.060625)rotate(-90)scale(0.1 -0.1)\">\n      <use xlink:href=\"#DejaVuSans-78\"/>\n      <use x=\"59.179688\" xlink:href=\"#DejaVuSans-32\"/>\n     </g>\n    </g>\n   </g>\n   <g id=\"patch_3\">\n    <path d=\"M 52.160938 224.64 \nL 52.160938 7.2 \n\" style=\"fill:none;stroke:#000000;stroke-linecap:square;stroke-linejoin:miter;stroke-width:0.8;\"/>\n   </g>\n   <g id=\"patch_4\">\n    <path d=\"M 386.960938 224.64 \nL 386.960938 7.2 \n\" style=\"fill:none;stroke:#000000;stroke-linecap:square;stroke-linejoin:miter;stroke-width:0.8;\"/>\n   </g>\n   <g id=\"patch_5\">\n    <path d=\"M 52.160938 224.64 \nL 386.960938 224.64 \n\" style=\"fill:none;stroke:#000000;stroke-linecap:square;stroke-linejoin:miter;stroke-width:0.8;\"/>\n   </g>\n   <g id=\"patch_6\">\n    <path d=\"M 52.160938 7.2 \nL 386.960938 7.2 \n\" style=\"fill:none;stroke:#000000;stroke-linecap:square;stroke-linejoin:miter;stroke-width:0.8;\"/>\n   </g>\n  </g>\n </g>\n <defs>\n  <clipPath id=\"p6eb6f74a0c\">\n   <rect height=\"217.44\" width=\"334.8\" x=\"52.160938\" y=\"7.2\"/>\n  </clipPath>\n </defs>\n</svg>\n",
      "image/png": "[encoded data removed]"
     },
     "metadata": {
      "needs_background": "light"
     }
    }
   ],
   "source": [
    "plt.scatter(x1, x2)\n",
    "plt.ylabel('x2')\n",
    "plt.xlabel('x1')"
   ]
  },
  {
   "cell_type": "code",
   "execution_count": 5,
   "metadata": {},
   "outputs": [
    {
     "output_type": "stream",
     "name": "stdout",
     "text": [
      "                            OLS Regression Results                            \n==============================================================================\nDep. Variable:                  Y_hat   R-squared:                       0.261\nModel:                            OLS   Adj. R-squared:                  0.245\nMethod:                 Least Squares   F-statistic:                     17.09\nDate:                Wed, 21 Apr 2021   Prob (F-statistic):           4.40e-07\nTime:                        01:06:08   Log-Likelihood:                -142.34\nNo. Observations:                 100   AIC:                             290.7\nDf Residuals:                      97   BIC:                             298.5\nDf Model:                           2                                         \nCovariance Type:            nonrobust                                         \n==============================================================================\n                 coef    std err          t      P>|t|      [0.025      0.975]\n------------------------------------------------------------------------------\nconst          2.1893      0.199     11.021      0.000       1.795       2.584\nB1_hat         0.7046      0.637      1.107      0.271      -0.559       1.968\nB2_hat         2.5024      1.140      2.194      0.031       0.239       4.766\n==============================================================================\nOmnibus:                        0.607   Durbin-Watson:                   2.111\nProb(Omnibus):                  0.738   Jarque-Bera (JB):                0.577\nSkew:                          -0.179   Prob(JB):                        0.749\nKurtosis:                       2.900   Cond. No.                         14.3\n==============================================================================\n\nNotes:\n[1] Standard Errors assume that the covariance matrix of the errors is correctly specified.\n"
     ]
    }
   ],
   "source": [
    "# part c\n",
    "x = np.stack((x1, x2), axis=-1)\n",
    "X_both = pd.DataFrame(x, columns = ['B1_hat', 'B2_hat'])\n",
    "Y_both = pd.DataFrame(y, columns = ['Y_hat'])\n",
    "res_both = sm.OLS(Y_both, sm.add_constant(X_both)).fit()\n",
    "print(res_both.summary())"
   ]
  },
  {
   "cell_type": "code",
   "execution_count": 6,
   "metadata": {},
   "outputs": [
    {
     "output_type": "execute_result",
     "data": {
      "text/plain": [
       "               0         1\n",
       "const   1.795010  2.583559\n",
       "B1_hat -0.559175  1.968432\n",
       "B2_hat  0.238962  4.765848"
      ],
      "text/html": "<div>\n<style scoped>\n    .dataframe tbody tr th:only-of-type {\n        vertical-align: middle;\n    }\n\n    .dataframe tbody tr th {\n        vertical-align: top;\n    }\n\n    .dataframe thead th {\n        text-align: right;\n    }\n</style>\n<table border=\"1\" class=\"dataframe\">\n  <thead>\n    <tr style=\"text-align: right;\">\n      <th></th>\n      <th>0</th>\n      <th>1</th>\n    </tr>\n  </thead>\n  <tbody>\n    <tr>\n      <th>const</th>\n      <td>1.795010</td>\n      <td>2.583559</td>\n    </tr>\n    <tr>\n      <th>B1_hat</th>\n      <td>-0.559175</td>\n      <td>1.968432</td>\n    </tr>\n    <tr>\n      <th>B2_hat</th>\n      <td>0.238962</td>\n      <td>4.765848</td>\n    </tr>\n  </tbody>\n</table>\n</div>"
     },
     "metadata": {},
     "execution_count": 6
    }
   ],
   "source": [
    "res_both.conf_int()"
   ]
  },
  {
   "source": [
    "Here, the reported estimates of regression coefficients are: <br>\n",
    "B0_hat : 2.1893 <br>\n",
    "B1_hat : 0.7046 <br>\n",
    "B2_hat : 2.5024 <br>\n",
    "<br>\n",
    "As we can see that B0_hat is a fairluy good estimate of B0, however B1_hat highly deviates from B1 which is also evident from the high p-value for the same, hence leading us with enough evidence to accept the null hypothesis for B1_hat. While B2_hat is a poor estimate of B2 as well, its confidence intervals barely manages to cover the actual value of B2."
   ],
   "cell_type": "markdown",
   "metadata": {}
  },
  {
   "cell_type": "code",
   "execution_count": 7,
   "metadata": {},
   "outputs": [
    {
     "output_type": "stream",
     "name": "stdout",
     "text": [
      "                            OLS Regression Results                            \n==============================================================================\nDep. Variable:                  Y_hat   R-squared:                       0.224\nModel:                            OLS   Adj. R-squared:                  0.216\nMethod:                 Least Squares   F-statistic:                     28.26\nDate:                Wed, 21 Apr 2021   Prob (F-statistic):           6.68e-07\nTime:                        01:06:08   Log-Likelihood:                -144.76\nNo. Observations:                 100   AIC:                             293.5\nDf Residuals:                      98   BIC:                             298.7\nDf Model:                           1                                         \nCovariance Type:            nonrobust                                         \n==============================================================================\n                 coef    std err          t      P>|t|      [0.025      0.975]\n------------------------------------------------------------------------------\nconst          2.2486      0.201     11.209      0.000       1.850       2.647\nB1_hat         1.8770      0.353      5.316      0.000       1.176       2.578\n==============================================================================\nOmnibus:                        0.292   Durbin-Watson:                   2.123\nProb(Omnibus):                  0.864   Jarque-Bera (JB):                0.468\nSkew:                          -0.003   Prob(JB):                        0.791\nKurtosis:                       2.665   Cond. No.                         4.26\n==============================================================================\n\nNotes:\n[1] Standard Errors assume that the covariance matrix of the errors is correctly specified.\n"
     ]
    }
   ],
   "source": [
    "# part d\n",
    "X1 = pd.DataFrame(x1, columns = ['B1_hat'])\n",
    "Y_x1 = pd.DataFrame(y, columns = ['Y_hat'])\n",
    "res_x1 = sm.OLS(Y_x1, sm.add_constant(X1)).fit()\n",
    "print(res_x1.summary())"
   ]
  },
  {
   "source": [
    "The value of B1_hat is now closer to B1 and even the std. error for B1_hat has reduced to almost half, which reflects as a neglible p-value for the coefficient hence, we can conviniently reject the null hypothesis for B1_hat in the model"
   ],
   "cell_type": "markdown",
   "metadata": {}
  },
  {
   "cell_type": "code",
   "execution_count": 8,
   "metadata": {},
   "outputs": [
    {
     "output_type": "stream",
     "name": "stdout",
     "text": [
      "                            OLS Regression Results                            \n==============================================================================\nDep. Variable:                  Y_hat   R-squared:                       0.251\nModel:                            OLS   Adj. R-squared:                  0.244\nMethod:                 Least Squares   F-statistic:                     32.87\nDate:                Wed, 21 Apr 2021   Prob (F-statistic):           1.09e-07\nTime:                        01:06:08   Log-Likelihood:                -142.97\nNo. Observations:                 100   AIC:                             289.9\nDf Residuals:                      98   BIC:                             295.1\nDf Model:                           1                                         \nCovariance Type:            nonrobust                                         \n==============================================================================\n                 coef    std err          t      P>|t|      [0.025      0.975]\n------------------------------------------------------------------------------\nconst          2.2655      0.187     12.145      0.000       1.895       2.636\nB2_hat         3.5613      0.621      5.733      0.000       2.329       4.794\n==============================================================================\nOmnibus:                        0.857   Durbin-Watson:                   2.117\nProb(Omnibus):                  0.651   Jarque-Bera (JB):                0.746\nSkew:                          -0.210   Prob(JB):                        0.689\nKurtosis:                       2.946   Cond. No.                         6.48\n==============================================================================\n\nNotes:\n[1] Standard Errors assume that the covariance matrix of the errors is correctly specified.\n"
     ]
    }
   ],
   "source": [
    "# part e\n",
    "X2 = pd.DataFrame(x2, columns = ['B2_hat'])\n",
    "Y_x2 = pd.DataFrame(y, columns = ['Y_hat'])\n",
    "res_x2 = sm.OLS(Y_x2, sm.add_constant(X2)).fit()\n",
    "print(res_x2.summary())"
   ]
  },
  {
   "source": [
    "The standard error for the coefficient B2_hat has similarly dropped to almost half and consequently even the p-value has become neglible. Hence, we can reject the null hypothesis for B2_hat in the model\n"
   ],
   "cell_type": "markdown",
   "metadata": {}
  },
  {
   "source": [
    "part (f) <br>\n",
    "Yes, the results obtained in (c) to (e) contradict each other as the combined model suggests that the model must drop a variable to make it a better fit. However part (d) and (e) suggest strong relationship between the response and the predictors individually, hence giving evidences to accept the null hypothesis for the other coefficient, even in the case of B2_hat which didn't have sufficient evidence initially but makes the model better when removed."
   ],
   "cell_type": "markdown",
   "metadata": {}
  },
  {
   "cell_type": "code",
   "execution_count": 9,
   "metadata": {},
   "outputs": [
    {
     "output_type": "stream",
     "name": "stdout",
     "text": [
      "                            OLS Regression Results                            \n",
      "==============================================================================\n",
      "Dep. Variable:                  Y_hat   R-squared:                       0.261\n",
      "Model:                            OLS   Adj. R-squared:                  0.245\n",
      "Method:                 Least Squares   F-statistic:                     17.09\n",
      "Date:                Wed, 21 Apr 2021   Prob (F-statistic):           4.40e-07\n",
      "Time:                        01:06:08   Log-Likelihood:                -142.34\n",
      "No. Observations:                 100   AIC:                             290.7\n",
      "Df Residuals:                      97   BIC:                             298.5\n",
      "Df Model:                           2                                         \n",
      "Covariance Type:            nonrobust                                         \n",
      "==============================================================================\n",
      "                 coef    std err          t      P>|t|      [0.025      0.975]\n",
      "------------------------------------------------------------------------------\n",
      "const          2.1893      0.199     11.021      0.000       1.795       2.584\n",
      "B1_hat         0.7046      0.637      1.107      0.271      -0.559       1.968\n",
      "B2_hat         2.5024      1.140      2.194      0.031       0.239       4.766\n",
      "==============================================================================\n",
      "Omnibus:                        0.607   Durbin-Watson:                   2.111\n",
      "Prob(Omnibus):                  0.738   Jarque-Bera (JB):                0.577\n",
      "Skew:                          -0.179   Prob(JB):                        0.749\n",
      "Kurtosis:                       2.900   Cond. No.                         14.3\n",
      "==============================================================================\n",
      "\n",
      "Notes:\n",
      "[1] Standard Errors assume that the covariance matrix of the errors is correctly specified.\n"
     ]
    }
   ],
   "source": [
    "# part g\n",
    "x1_new = x1\n",
    "x2_new = x2\n",
    "y_new = y\n",
    "np.append(x1_new, [0.1])\n",
    "np.append(x2_new, [0.8])\n",
    "np.append(y_new, [6])\n",
    "x_new = np.stack((x1_new, x2_new), axis=-1)\n",
    "X_both_new = pd.DataFrame(x_new, columns = ['B1_hat', 'B2_hat'])\n",
    "Y_both_new = pd.DataFrame(y_new, columns = ['Y_hat'])\n",
    "res_both_new = sm.OLS(Y_both_new, sm.add_constant(X_both_new)).fit()\n",
    "print(res_both_new.summary())"
   ]
  },
  {
   "cell_type": "code",
   "execution_count": 10,
   "metadata": {},
   "outputs": [
    {
     "output_type": "stream",
     "name": "stdout",
     "text": [
      "                            OLS Regression Results                            \n==============================================================================\nDep. Variable:                  Y_hat   R-squared:                       0.224\nModel:                            OLS   Adj. R-squared:                  0.216\nMethod:                 Least Squares   F-statistic:                     28.26\nDate:                Wed, 21 Apr 2021   Prob (F-statistic):           6.68e-07\nTime:                        01:06:08   Log-Likelihood:                -144.76\nNo. Observations:                 100   AIC:                             293.5\nDf Residuals:                      98   BIC:                             298.7\nDf Model:                           1                                         \nCovariance Type:            nonrobust                                         \n==============================================================================\n                 coef    std err          t      P>|t|      [0.025      0.975]\n------------------------------------------------------------------------------\nconst          2.2486      0.201     11.209      0.000       1.850       2.647\nB1_hat         1.8770      0.353      5.316      0.000       1.176       2.578\n==============================================================================\nOmnibus:                        0.292   Durbin-Watson:                   2.123\nProb(Omnibus):                  0.864   Jarque-Bera (JB):                0.468\nSkew:                          -0.003   Prob(JB):                        0.791\nKurtosis:                       2.665   Cond. No.                         4.26\n==============================================================================\n\nNotes:\n[1] Standard Errors assume that the covariance matrix of the errors is correctly specified.\n"
     ]
    }
   ],
   "source": [
    "X1_new = pd.DataFrame(x1_new, columns = ['B1_hat'])\n",
    "Y_x1_new = pd.DataFrame(y_new, columns = ['Y_hat'])\n",
    "res_x1_new = sm.OLS(Y_x1_new, sm.add_constant(X1_new)).fit()\n",
    "print(res_x1_new.summary())"
   ]
  },
  {
   "cell_type": "code",
   "execution_count": 11,
   "metadata": {},
   "outputs": [
    {
     "output_type": "stream",
     "name": "stdout",
     "text": [
      "                            OLS Regression Results                            \n==============================================================================\nDep. Variable:                  Y_hat   R-squared:                       0.251\nModel:                            OLS   Adj. R-squared:                  0.244\nMethod:                 Least Squares   F-statistic:                     32.87\nDate:                Wed, 21 Apr 2021   Prob (F-statistic):           1.09e-07\nTime:                        01:06:08   Log-Likelihood:                -142.97\nNo. Observations:                 100   AIC:                             289.9\nDf Residuals:                      98   BIC:                             295.1\nDf Model:                           1                                         \nCovariance Type:            nonrobust                                         \n==============================================================================\n                 coef    std err          t      P>|t|      [0.025      0.975]\n------------------------------------------------------------------------------\nconst          2.2655      0.187     12.145      0.000       1.895       2.636\nB1_hat         3.5613      0.621      5.733      0.000       2.329       4.794\n==============================================================================\nOmnibus:                        0.857   Durbin-Watson:                   2.117\nProb(Omnibus):                  0.651   Jarque-Bera (JB):                0.746\nSkew:                          -0.210   Prob(JB):                        0.689\nKurtosis:                       2.946   Cond. No.                         6.48\n==============================================================================\n\nNotes:\n[1] Standard Errors assume that the covariance matrix of the errors is correctly specified.\n"
     ]
    }
   ],
   "source": [
    "X2_new = pd.DataFrame(x2_new, columns = ['B1_hat'])\n",
    "Y_x2_new = pd.DataFrame(y_new, columns = ['Y_hat'])\n",
    "res_x2_new = sm.OLS(Y_x2_new, sm.add_constant(X2_new)).fit()\n",
    "print(res_x2_new.summary())"
   ]
  },
  {
   "cell_type": "code",
   "execution_count": null,
   "metadata": {},
   "outputs": [],
   "source": []
  }
 ]
}